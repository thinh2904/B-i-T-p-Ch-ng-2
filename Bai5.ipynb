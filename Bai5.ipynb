{
  "nbformat": 4,
  "nbformat_minor": 0,
  "metadata": {
    "colab": {
      "name": "Baio5.ipynb",
      "provenance": []
    },
    "kernelspec": {
      "name": "python3",
      "display_name": "Python 3"
    }
  },
  "cells": [
    {
      "cell_type": "code",
      "metadata": {
        "id": "f5Kf6ZljZHKL",
        "outputId": "0b0dd705-1d2c-49b6-914d-3be37d8d529f",
        "colab": {
          "base_uri": "https://localhost:8080/",
          "height": 68
        }
      },
      "source": [
        "x=input(\"Nhập chuỗi ký tự:\")\n",
        "print(\"1.Chuyển thành chuổi in hoa:\",x.upper())\n",
        "print(\"2.Chuyển thành chuổi in thường:\",x.lower())"
      ],
      "execution_count": 8,
      "outputs": [
        {
          "output_type": "stream",
          "text": [
            "Nhập chuỗi ký tự:Nguyễn Tiến Thịnh\n",
            "1.Chuyển thành chuổi in hoa: NGUYỄN TIẾN THỊNH\n",
            "2.Chuyển thành chuổi in thường: nguyễn tiến thịnh\n"
          ],
          "name": "stdout"
        }
      ]
    }
  ]
}