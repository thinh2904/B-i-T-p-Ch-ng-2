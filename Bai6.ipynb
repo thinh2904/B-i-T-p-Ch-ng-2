{
  "nbformat": 4,
  "nbformat_minor": 0,
  "metadata": {
    "colab": {
      "name": "Bai6.ipynb",
      "provenance": []
    },
    "kernelspec": {
      "name": "python3",
      "display_name": "Python 3"
    }
  },
  "cells": [
    {
      "cell_type": "code",
      "metadata": {
        "id": "P6emiJRqbbKl",
        "outputId": "c0320015-214f-40b8-f179-e1e3d73e375c",
        "colab": {
          "base_uri": "https://localhost:8080/",
          "height": 544
        }
      },
      "source": [
        "x=\"\"\"    ĐỜI NGƯỜI ĐÂU MẤY LẦN VUI\n",
        "Kiếp con người mỏng manh như là gió\n",
        "Sống trên đời có được mấy lần vui\n",
        "Sao phải đau mà không thể mỉm cười\n",
        "Gắng buông nỗi ngậm ngùi nơi quá khứ\n",
        "\n",
        "\n",
        "Nếu có thể sao ta không làm thử\n",
        "Để tâm hồn khắc hai chữ bình an\n",
        "Cho đôi chân bước thanh thản nhẹ nhàng\n",
        "Dù hướng đời có muôn ngàn đá sỏi\n",
        "\n",
        "\n",
        "Biết nhận sai khi trót gây lầm lỗi\n",
        "Người ghét ta cũng chớ vội oán hờn\n",
        "Đừng để mình xem nặng nhẹ thiệt hơn\n",
        "Thì lệ sẽ chẳng ướt sờn vai áo\n",
        "\n",
        "\n",
        "Phải mạnh mẽ đương đầu cùng giông bão\n",
        "Sống chỉ cần chốn nương náu mà thôi\n",
        "Được cơm no áo ấm cũng vui rồi\n",
        "Bởi dòng đời còn lắm người cơ nhỡ\n",
        "\n",
        "\n",
        "Chốn dương gian chẳng qua là tạm bợ\n",
        "Tiệc tàn rồi cũng trở lại hư vô\n",
        "Hãy giữ gìn trân trọng mến thương nhau\n",
        "Vì thời gian chẳng thể nào quay lại\n",
        "\n",
        "- Tùng Trần -\"\"\"\n",
        "print(x)"
      ],
      "execution_count": 5,
      "outputs": [
        {
          "output_type": "stream",
          "text": [
            "    ĐỜI NGƯỜI ĐÂU MẤY LẦN VUI\n",
            "Kiếp con người mỏng manh như là gió\n",
            "Sống trên đời có được mấy lần vui\n",
            "Sao phải đau mà không thể mỉm cười\n",
            "Gắng buông nỗi ngậm ngùi nơi quá khứ\n",
            "\n",
            "\n",
            "Nếu có thể sao ta không làm thử\n",
            "Để tâm hồn khắc hai chữ bình an\n",
            "Cho đôi chân bước thanh thản nhẹ nhàng\n",
            "Dù hướng đời có muôn ngàn đá sỏi\n",
            "\n",
            "\n",
            "Biết nhận sai khi trót gây lầm lỗi\n",
            "Người ghét ta cũng chớ vội oán hờn\n",
            "Đừng để mình xem nặng nhẹ thiệt hơn\n",
            "Thì lệ sẽ chẳng ướt sờn vai áo\n",
            "\n",
            "\n",
            "Phải mạnh mẽ đương đầu cùng giông bão\n",
            "Sống chỉ cần chốn nương náu mà thôi\n",
            "Được cơm no áo ấm cũng vui rồi\n",
            "Bởi dòng đời còn lắm người cơ nhỡ\n",
            "\n",
            "\n",
            "Chốn dương gian chẳng qua là tạm bợ\n",
            "Tiệc tàn rồi cũng trở lại hư vô\n",
            "Hãy giữ gìn trân trọng mến thương nhau\n",
            "Vì thời gian chẳng thể nào quay lại\n",
            "\n",
            "- Tùng Trần -\n"
          ],
          "name": "stdout"
        }
      ]
    }
  ]
}