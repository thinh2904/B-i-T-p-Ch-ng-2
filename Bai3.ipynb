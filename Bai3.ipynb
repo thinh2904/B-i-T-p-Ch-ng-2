{
  "nbformat": 4,
  "nbformat_minor": 0,
  "metadata": {
    "colab": {
      "name": "Bai3.ipynb",
      "provenance": []
    },
    "kernelspec": {
      "name": "python3",
      "display_name": "Python 3"
    }
  },
  "cells": [
    {
      "cell_type": "code",
      "metadata": {
        "id": "MHHSMFE6RNXo",
        "outputId": "5ece4cff-e54f-4abb-e3b3-310cccb41806",
        "colab": {
          "base_uri": "https://localhost:8080/",
          "height": 136
        }
      },
      "source": [
        "x=float(input(\"Nhập x=\"))\n",
        "print(\"1.Trị tuyệt đối của x là:\",abs(x))\n",
        "print(\"2.Phần nguyên xủa x là:\",int(x))\n",
        "print(\"3.Chuyển x thành số thực:\",float(x))\n",
        "y=float(input(\"Nhập y=\"))\n",
        "print(\"4.Lũy thừa x^y=\",x**y)\n",
        "import math\n",
        "print(\"5.Căn bậc 2 của x=\",math.sqrt(x))"
      ],
      "execution_count": 8,
      "outputs": [
        {
          "output_type": "stream",
          "text": [
            "Nhập x=9.5\n",
            "1.Trị tuyệt đối của x là: 9.5\n",
            "2.Phần nguyên xủa x là: 9\n",
            "3.Chuyển x thành số thực: 9.5\n",
            "Nhập y=2\n",
            "4.Lũy thừa x^y= 90.25\n",
            "5.Căn bậc 2 của x= 3.082207001484488\n"
          ],
          "name": "stdout"
        }
      ]
    }
  ]
}