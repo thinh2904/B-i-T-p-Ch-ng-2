{
  "nbformat": 4,
  "nbformat_minor": 0,
  "metadata": {
    "colab": {
      "name": "Bai1.ipynb",
      "provenance": []
    },
    "kernelspec": {
      "name": "python3",
      "display_name": "Python 3"
    }
  },
  "cells": [
    {
      "cell_type": "code",
      "metadata": {
        "id": "4Xhy_IiuKmQd",
        "outputId": "981b62a3-d07c-4285-8b5f-47eca697f3cb",
        "colab": {
          "base_uri": "https://localhost:8080/",
          "height": 136
        }
      },
      "source": [
        "a=int(input(\"Nhập số nguyên a=\"))\n",
        "b=int(input(\"Nhập số nguyên b=\"))\n",
        "print(\"1.Tổng a+b=\",a+b)\n",
        "print(\"2.Tích a*b=\",a*b)\n",
        "print(\"3.Hiệu a-b=\",a-b)\n",
        "print(\"4.Phần dư của a/b là \",a%b)\n",
        "print(\"5.Phần nguyên của a/b là \",a//b)"
      ],
      "execution_count": 6,
      "outputs": [
        {
          "output_type": "stream",
          "text": [
            "Nhập số nguyên a=10\n",
            "Nhập số nguyên b=3\n",
            "1.Tổng a+b= 13\n",
            "2.Tích a*b= 30\n",
            "3.Hiệu a-b= 7\n",
            "4.Phần dư của a/b là  1\n",
            "5.Phần nguyên của a/b là  3\n"
          ],
          "name": "stdout"
        }
      ]
    }
  ]
}