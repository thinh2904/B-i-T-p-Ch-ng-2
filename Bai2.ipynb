{
  "nbformat": 4,
  "nbformat_minor": 0,
  "metadata": {
    "colab": {
      "name": "Bai2.ipynb",
      "provenance": []
    },
    "kernelspec": {
      "name": "python3",
      "display_name": "Python 3"
    }
  },
  "cells": [
    {
      "cell_type": "code",
      "metadata": {
        "id": "5IYjy3I-NqhO",
        "outputId": "9e556904-4d26-4e76-c593-f5a922c79f86",
        "colab": {
          "base_uri": "https://localhost:8080/",
          "height": 119
        }
      },
      "source": [
        "a=float(input(\"Nhập số thực a=\"))\n",
        "b=float(input(\"Nhập số thực b=\"))\n",
        "print(\"1.Tổng của a+b=\",a+b)\n",
        "print(\"2.Tích của a*b=\",a*b)\n",
        "print(\"3.Hiệu của a-b=\",a-b)\n",
        "print(\"4.Thương của a/b=\",a/b)"
      ],
      "execution_count": 3,
      "outputs": [
        {
          "output_type": "stream",
          "text": [
            "Nhập số thực a=3.5\n",
            "Nhập số thực b=1.5\n",
            "1.Tổng của a+b= 5.0\n",
            "2.Tích của a*b= 5.25\n",
            "3.Hiệu của a-b= 2.0\n",
            "4.Thương của a/b= 2.3333333333333335\n"
          ],
          "name": "stdout"
        }
      ]
    }
  ]
}