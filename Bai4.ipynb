{
  "nbformat": 4,
  "nbformat_minor": 0,
  "metadata": {
    "colab": {
      "name": "Bai4.ipynb",
      "provenance": []
    },
    "kernelspec": {
      "name": "python3",
      "display_name": "Python 3"
    }
  },
  "cells": [
    {
      "cell_type": "code",
      "metadata": {
        "id": "_1p_hrqyXPgZ",
        "outputId": "19de3640-52fa-4492-fa07-e2ba9a989d87",
        "colab": {
          "base_uri": "https://localhost:8080/",
          "height": 136
        }
      },
      "source": [
        "a=float(input(\"Nhập a=\"))\n",
        "b=float(input(\"Nhập b=\"))\n",
        "print(\"1.a≥b\",a>=b)\n",
        "print(\"2.a≤b\",a<=b)\n",
        "print(\"3.a>b\",a>b)\n",
        "print(\"4.a<b\",a<b)\n",
        "print(\"5.a≠b\",a!=b)"
      ],
      "execution_count": 2,
      "outputs": [
        {
          "output_type": "stream",
          "text": [
            "Nhập a=5\n",
            "Nhập b=3\n",
            "1.a≥b True\n",
            "2.a≤b False\n",
            "3.a>b True\n",
            "4.a<b False\n",
            "5.a≠b True\n"
          ],
          "name": "stdout"
        }
      ]
    }
  ]
}